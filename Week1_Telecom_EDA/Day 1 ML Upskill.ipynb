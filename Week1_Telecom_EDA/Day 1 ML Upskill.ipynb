{
 "cells": [
  {
   "cell_type": "code",
   "execution_count": null,
   "id": "3a70f683",
   "metadata": {},
   "outputs": [],
   "source": [
    "#lists and loops"
   ]
  },
  {
   "cell_type": "code",
   "execution_count": 1,
   "id": "daf77b75",
   "metadata": {},
   "outputs": [],
   "source": [
    "nums = [10, 20, 30 ,40]"
   ]
  },
  {
   "cell_type": "code",
   "execution_count": 2,
   "id": "15924367",
   "metadata": {},
   "outputs": [],
   "source": [
    "squared = [x**2 for x in nums]"
   ]
  },
  {
   "cell_type": "code",
   "execution_count": 3,
   "id": "60e0b75c",
   "metadata": {},
   "outputs": [
    {
     "name": "stdout",
     "output_type": "stream",
     "text": [
      "[100, 400, 900, 1600]\n"
     ]
    }
   ],
   "source": [
    "print(squared)"
   ]
  },
  {
   "cell_type": "code",
   "execution_count": null,
   "id": "80cb6ef5",
   "metadata": {},
   "outputs": [],
   "source": []
  },
  {
   "cell_type": "code",
   "execution_count": null,
   "id": "c10f92d8",
   "metadata": {},
   "outputs": [],
   "source": [
    "# Dictionary and looping"
   ]
  },
  {
   "cell_type": "code",
   "execution_count": 5,
   "id": "5ba003cc",
   "metadata": {},
   "outputs": [],
   "source": [
    "employee = {\"Name\": \"Jatin\", \"Company\": \"Nokia\", \"Role\": \"Data Analyst\"}"
   ]
  },
  {
   "cell_type": "code",
   "execution_count": 11,
   "id": "4b68f678",
   "metadata": {},
   "outputs": [
    {
     "name": "stdout",
     "output_type": "stream",
     "text": [
      "Name - Jatin\n",
      "Company - Nokia\n",
      "Role - Data Analyst\n"
     ]
    }
   ],
   "source": [
    "for k,v in employee.items():\n",
    "    print(f\"{k} - {v}\")"
   ]
  },
  {
   "cell_type": "code",
   "execution_count": 14,
   "id": "9358fd2e",
   "metadata": {},
   "outputs": [
    {
     "data": {
      "text/plain": [
       "dict_items([('Name', 'Jatin'), ('Company', 'Nokia'), ('Role', 'Data Analyst')])"
      ]
     },
     "execution_count": 14,
     "metadata": {},
     "output_type": "execute_result"
    }
   ],
   "source": [
    "employee.items()"
   ]
  },
  {
   "cell_type": "code",
   "execution_count": null,
   "id": "76619cd8",
   "metadata": {},
   "outputs": [],
   "source": []
  },
  {
   "cell_type": "code",
   "execution_count": null,
   "id": "4140a987",
   "metadata": {},
   "outputs": [],
   "source": [
    "#Functions"
   ]
  },
  {
   "cell_type": "code",
   "execution_count": 17,
   "id": "27b7f17c",
   "metadata": {},
   "outputs": [
    {
     "name": "stdout",
     "output_type": "stream",
     "text": [
      "45.0\n"
     ]
    }
   ],
   "source": [
    "def avg_usage(data):\n",
    "    return sum(data)/len(data)\n",
    "print(avg_usage([5,60,70]))"
   ]
  },
  {
   "cell_type": "code",
   "execution_count": null,
   "id": "1b515a03",
   "metadata": {},
   "outputs": [],
   "source": []
  },
  {
   "cell_type": "code",
   "execution_count": null,
   "id": "7b405e05",
   "metadata": {},
   "outputs": [],
   "source": [
    "#File handling"
   ]
  },
  {
   "cell_type": "code",
   "execution_count": 23,
   "id": "6af64ae7",
   "metadata": {},
   "outputs": [],
   "source": [
    "f = open(\"sample.txt\",\"w\")"
   ]
  },
  {
   "cell_type": "code",
   "execution_count": 24,
   "id": "6d375e11",
   "metadata": {},
   "outputs": [
    {
     "data": {
      "text/plain": [
       "15"
      ]
     },
     "execution_count": 24,
     "metadata": {},
     "output_type": "execute_result"
    }
   ],
   "source": [
    "f.write(\"Setup Complete.\")"
   ]
  },
  {
   "cell_type": "code",
   "execution_count": 25,
   "id": "0834a302",
   "metadata": {},
   "outputs": [],
   "source": [
    "f.close()"
   ]
  },
  {
   "cell_type": "code",
   "execution_count": 26,
   "id": "595b0b6b",
   "metadata": {},
   "outputs": [
    {
     "data": {
      "text/plain": [
       "<_io.TextIOWrapper name='sample.txt' mode='w' encoding='cp1252'>"
      ]
     },
     "execution_count": 26,
     "metadata": {},
     "output_type": "execute_result"
    }
   ],
   "source": [
    "f"
   ]
  },
  {
   "cell_type": "code",
   "execution_count": null,
   "id": "6c879c46",
   "metadata": {},
   "outputs": [],
   "source": []
  },
  {
   "cell_type": "code",
   "execution_count": 27,
   "id": "c5c8f519",
   "metadata": {},
   "outputs": [],
   "source": [
    "import pandas as pd"
   ]
  },
  {
   "cell_type": "code",
   "execution_count": 28,
   "id": "ad5c1d2e",
   "metadata": {},
   "outputs": [],
   "source": [
    "import numpy as np"
   ]
  },
  {
   "cell_type": "code",
   "execution_count": 29,
   "id": "33b7464e",
   "metadata": {},
   "outputs": [],
   "source": [
    "import matplotlib.pyplot as plt"
   ]
  },
  {
   "cell_type": "code",
   "execution_count": 33,
   "id": "e0a7fbb1",
   "metadata": {},
   "outputs": [
    {
     "name": "stdout",
     "output_type": "stream",
     "text": [
      "Collecting seaborn\n",
      "  Downloading seaborn-0.12.2-py3-none-any.whl (293 kB)\n",
      "Requirement already satisfied: typing_extensions; python_version < \"3.8\" in c:\\users\\jsaini\\appdata\\local\\programs\\python\\python37\\lib\\site-packages (from seaborn) (4.7.1)\n",
      "Requirement already satisfied: numpy!=1.24.0,>=1.17 in c:\\users\\jsaini\\appdata\\local\\programs\\python\\python37\\lib\\site-packages (from seaborn) (1.21.6)\n",
      "Requirement already satisfied: matplotlib!=3.6.1,>=3.1 in c:\\users\\jsaini\\appdata\\local\\programs\\python\\python37\\lib\\site-packages (from seaborn) (3.5.3)\n",
      "Requirement already satisfied: pandas>=0.25 in c:\\users\\jsaini\\appdata\\local\\programs\\python\\python37\\lib\\site-packages (from seaborn) (1.3.5)\n",
      "Requirement already satisfied: python-dateutil>=2.7 in c:\\users\\jsaini\\appdata\\local\\programs\\python\\python37\\lib\\site-packages (from matplotlib!=3.6.1,>=3.1->seaborn) (2.9.0.post0)\n",
      "Requirement already satisfied: packaging>=20.0 in c:\\users\\jsaini\\appdata\\local\\programs\\python\\python37\\lib\\site-packages (from matplotlib!=3.6.1,>=3.1->seaborn) (24.0)\n",
      "Requirement already satisfied: pillow>=6.2.0 in c:\\users\\jsaini\\appdata\\local\\programs\\python\\python37\\lib\\site-packages (from matplotlib!=3.6.1,>=3.1->seaborn) (9.5.0)\n",
      "Requirement already satisfied: kiwisolver>=1.0.1 in c:\\users\\jsaini\\appdata\\local\\programs\\python\\python37\\lib\\site-packages (from matplotlib!=3.6.1,>=3.1->seaborn) (1.4.5)\n",
      "Requirement already satisfied: cycler>=0.10 in c:\\users\\jsaini\\appdata\\local\\programs\\python\\python37\\lib\\site-packages (from matplotlib!=3.6.1,>=3.1->seaborn) (0.11.0)\n",
      "Requirement already satisfied: pyparsing>=2.2.1 in c:\\users\\jsaini\\appdata\\local\\programs\\python\\python37\\lib\\site-packages (from matplotlib!=3.6.1,>=3.1->seaborn) (3.1.4)\n",
      "Requirement already satisfied: fonttools>=4.22.0 in c:\\users\\jsaini\\appdata\\local\\programs\\python\\python37\\lib\\site-packages (from matplotlib!=3.6.1,>=3.1->seaborn) (4.38.0)\n",
      "Requirement already satisfied: pytz>=2017.3 in c:\\users\\jsaini\\appdata\\local\\programs\\python\\python37\\lib\\site-packages (from pandas>=0.25->seaborn) (2025.1)\n",
      "Requirement already satisfied: six>=1.5 in c:\\users\\jsaini\\appdata\\local\\programs\\python\\python37\\lib\\site-packages (from python-dateutil>=2.7->matplotlib!=3.6.1,>=3.1->seaborn) (1.17.0)\n",
      "Installing collected packages: seaborn\n",
      "Successfully installed seaborn-0.12.2\n",
      "Note: you may need to restart the kernel to use updated packages.\n"
     ]
    },
    {
     "name": "stderr",
     "output_type": "stream",
     "text": [
      "WARNING: You are using pip version 20.1.1; however, version 24.0 is available.\n",
      "You should consider upgrading via the 'c:\\users\\jsaini\\appdata\\local\\programs\\python\\python37\\python.exe -m pip install --upgrade pip' command.\n"
     ]
    }
   ],
   "source": [
    "pip install seaborn"
   ]
  },
  {
   "cell_type": "code",
   "execution_count": 34,
   "id": "275199ac",
   "metadata": {},
   "outputs": [],
   "source": [
    "import seaborn as sns"
   ]
  },
  {
   "cell_type": "code",
   "execution_count": 35,
   "id": "84916818",
   "metadata": {},
   "outputs": [
    {
     "name": "stdout",
     "output_type": "stream",
     "text": [
      "liabraries loaded successfully\n"
     ]
    }
   ],
   "source": [
    "print(\"liabraries loaded successfully\")"
   ]
  },
  {
   "cell_type": "code",
   "execution_count": null,
   "id": "2d16f168",
   "metadata": {},
   "outputs": [],
   "source": []
  }
 ],
 "metadata": {
  "kernelspec": {
   "display_name": "Python 3 (ipykernel)",
   "language": "python",
   "name": "python3"
  },
  "language_info": {
   "codemirror_mode": {
    "name": "ipython",
    "version": 3
   },
   "file_extension": ".py",
   "mimetype": "text/x-python",
   "name": "python",
   "nbconvert_exporter": "python",
   "pygments_lexer": "ipython3",
   "version": "3.7.8"
  }
 },
 "nbformat": 4,
 "nbformat_minor": 5
}
